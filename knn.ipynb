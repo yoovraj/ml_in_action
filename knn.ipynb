{
 "cells": [
  {
   "cell_type": "code",
   "execution_count": 1,
   "metadata": {},
   "outputs": [],
   "source": [
    "import numpy as np\n",
    "import operator\n"
   ]
  },
  {
   "cell_type": "code",
   "execution_count": 2,
   "metadata": {},
   "outputs": [],
   "source": [
    "# creating fake dataset\n",
    "def createDataSet():\n",
    "    groups = np.array([[1, 1.1],\n",
    "                      [1,1],\n",
    "                      [0,0],\n",
    "                      [0,0.1]])\n",
    "    labels = ['A', 'A', 'B', 'B']\n",
    "    return groups, labels\n"
   ]
  },
  {
   "cell_type": "code",
   "execution_count": 9,
   "metadata": {},
   "outputs": [
    {
     "name": "stdout",
     "output_type": "stream",
     "text": [
      "<class 'numpy.ndarray'>\n",
      "[[1.  1.1]\n",
      " [1.  1. ]\n",
      " [0.  0. ]\n",
      " [0.  0.1]]\n",
      "<class 'list'>\n",
      "['A', 'A', 'B', 'B']\n"
     ]
    }
   ],
   "source": [
    "groups, labels = createDataSet()\n",
    "print(type(groups))\n",
    "print(groups)\n",
    "print(type(labels))\n",
    "print(labels)"
   ]
  },
  {
   "cell_type": "code",
   "execution_count": 6,
   "metadata": {},
   "outputs": [
    {
     "name": "stdout",
     "output_type": "stream",
     "text": [
      "4\n"
     ]
    }
   ],
   "source": [
    "# classifier\n",
    "\n",
    "# datapoint\n",
    "inX = [0,0]\n",
    "\n",
    "# dataset\n",
    "dataSet = groups\n",
    "\n",
    "# nearest neighbors\n",
    "k = 3\n",
    "\n",
    "dataSetSize = dataSet.shape[0]\n",
    "print(dataSetSize)"
   ]
  },
  {
   "cell_type": "code",
   "execution_count": 8,
   "metadata": {},
   "outputs": [
    {
     "data": {
      "text/plain": [
       "array([[0, 0],\n",
       "       [0, 0],\n",
       "       [0, 0],\n",
       "       [0, 0]])"
      ]
     },
     "execution_count": 8,
     "metadata": {},
     "output_type": "execute_result"
    }
   ],
   "source": [
    "# tile input data to be able to calculate distances\n",
    "np.tile(inX , (dataSetSize,1))"
   ]
  },
  {
   "cell_type": "code",
   "execution_count": 10,
   "metadata": {},
   "outputs": [
    {
     "name": "stdout",
     "output_type": "stream",
     "text": [
      "[[-1.  -1.1]\n",
      " [-1.  -1. ]\n",
      " [ 0.   0. ]\n",
      " [ 0.  -0.1]]\n"
     ]
    }
   ],
   "source": [
    "# calculate difference \n",
    "diffMat = np.tile(inX , (dataSetSize,1)) - dataSet\n",
    "print(diffMat)"
   ]
  },
  {
   "cell_type": "code",
   "execution_count": 11,
   "metadata": {},
   "outputs": [
    {
     "name": "stdout",
     "output_type": "stream",
     "text": [
      "[[1.   1.21]\n",
      " [1.   1.  ]\n",
      " [0.   0.  ]\n",
      " [0.   0.01]]\n"
     ]
    }
   ],
   "source": [
    "# square of differences\n",
    "sqDiffMat = diffMat**2\n",
    "print(sqDiffMat)"
   ]
  },
  {
   "cell_type": "code",
   "execution_count": 17,
   "metadata": {},
   "outputs": [
    {
     "name": "stdout",
     "output_type": "stream",
     "text": [
      "[2.21 2.   0.   0.01]\n"
     ]
    }
   ],
   "source": [
    "# sum of squares of diff\n",
    "sqDistances = sqDiffMat.sum(axis=1)\n",
    "print(sqDistances)"
   ]
  },
  {
   "cell_type": "code",
   "execution_count": 18,
   "metadata": {},
   "outputs": [
    {
     "name": "stdout",
     "output_type": "stream",
     "text": [
      "[1.48660687 1.41421356 0.         0.1       ]\n"
     ]
    }
   ],
   "source": [
    "# square root of sum of squares of diff\n",
    "distances = sqDistances**0.5\n",
    "print(distances)"
   ]
  },
  {
   "cell_type": "code",
   "execution_count": 19,
   "metadata": {},
   "outputs": [
    {
     "name": "stdout",
     "output_type": "stream",
     "text": [
      "[2 3 1 0]\n"
     ]
    }
   ],
   "source": [
    "# sort the distances \n",
    "sortedDistIndices = distances.argsort()\n",
    "print(sortedDistIndices)"
   ]
  },
  {
   "cell_type": "code",
   "execution_count": 20,
   "metadata": {},
   "outputs": [
    {
     "data": {
      "text/plain": [
       "3"
      ]
     },
     "execution_count": 20,
     "metadata": {},
     "output_type": "execute_result"
    }
   ],
   "source": [
    "sortedDistIndices[1]"
   ]
  },
  {
   "cell_type": "code",
   "execution_count": 25,
   "metadata": {},
   "outputs": [
    {
     "name": "stdout",
     "output_type": "stream",
     "text": [
      "B\n",
      "{'B': 1}\n",
      "{'B': 2}\n",
      "A\n",
      "{'B': 2, 'A': 1}\n"
     ]
    }
   ],
   "source": [
    "# picking up nearest distances\n",
    "voteIlabel = labels[sortedDistIndices[0]]\n",
    "print(voteIlabel)\n",
    "\n",
    "classCount={}\n",
    "classCount[voteIlabel] = classCount.get(voteIlabel, 0) + 1\n",
    "print(classCount)\n",
    "\n",
    "classCount[voteIlabel] = classCount.get(voteIlabel, 0) + 1\n",
    "print(classCount)\n",
    "\n",
    "\n",
    "voteIlabel = labels[sortedDistIndices[2]]\n",
    "print(voteIlabel)\n",
    "\n",
    "classCount[voteIlabel] = classCount.get(voteIlabel, 0) + 1\n",
    "print(classCount)\n"
   ]
  },
  {
   "cell_type": "code",
   "execution_count": 35,
   "metadata": {},
   "outputs": [
    {
     "name": "stdout",
     "output_type": "stream",
     "text": [
      "[('B', 2), ('A', 1)]\n",
      "B\n"
     ]
    }
   ],
   "source": [
    "# sort the k nearest and select class with max freq\n",
    "sortedClassCount = sorted(classCount.items(), key=operator.itemgetter(1), reverse=True)\n",
    "print(sortedClassCount)\n",
    "classified = sortedClassCount[0][0]\n",
    "print(classified)"
   ]
  },
  {
   "cell_type": "code",
   "execution_count": 34,
   "metadata": {},
   "outputs": [
    {
     "data": {
      "text/plain": [
       "'B'"
      ]
     },
     "execution_count": 34,
     "metadata": {},
     "output_type": "execute_result"
    }
   ],
   "source": [
    "sortedClassCount[0][0]"
   ]
  },
  {
   "cell_type": "code",
   "execution_count": 36,
   "metadata": {},
   "outputs": [],
   "source": [
    "# inX : input datapoint  \n",
    "# dataSet : the provided dataset\n",
    "# labels : labels / classes\n",
    "# k : k nearest neighbours\n",
    "def classify0(inX, dataSet, labels, k):\n",
    "    # get the shape of the dataset\n",
    "    dataSetShape = dataSet.shape[0]\n",
    "    \n",
    "    # create diff dataset\n",
    "    diffMat = np.tile(inX, (dataSetShape, 1)) - dataSet\n",
    "    \n",
    "    # square of differences\n",
    "    diffMat = diffMat ** 2\n",
    "    \n",
    "    # sum of squares of diff\n",
    "    sqDistances = diffMat.sum(axis=1)\n",
    "    \n",
    "    # sqrt of distance\n",
    "    sqDistances = sqDistances ** 0.5\n",
    "    \n",
    "    sortedDistIndices = sqDistances.argsort()\n",
    "    classCount={}\n",
    "    for i in range(k):\n",
    "        votedIlabel = labels[sortedDistIndices[i]]\n",
    "        classCount[votedIlabel] = classCount.get(votedIlabel, 0) + 1\n",
    "    \n",
    "    sortedClassCount = sorted(classCount.items(), key=operator.itemgetter(1), reverse=True)\n",
    "    return sortedClassCount[0][0]\n",
    "        "
   ]
  },
  {
   "cell_type": "code",
   "execution_count": 37,
   "metadata": {},
   "outputs": [
    {
     "data": {
      "text/plain": [
       "'B'"
      ]
     },
     "execution_count": 37,
     "metadata": {},
     "output_type": "execute_result"
    }
   ],
   "source": [
    "classify0([0,0], groups, labels, 3)"
   ]
  },
  {
   "cell_type": "code",
   "execution_count": 47,
   "metadata": {},
   "outputs": [
    {
     "name": "stdout",
     "output_type": "stream",
     "text": [
      "[1. 1. 0. 0.]\n",
      "[1.1 1.  0.  0.1]\n"
     ]
    }
   ],
   "source": [
    "print(dataSet[:,0])\n",
    "print(dataSet[:,1])\n"
   ]
  },
  {
   "cell_type": "code",
   "execution_count": 60,
   "metadata": {},
   "outputs": [
    {
     "name": "stdout",
     "output_type": "stream",
     "text": [
      "[1. 1. 0. 0.] [1.1 1.  0.  0.1]\n"
     ]
    },
    {
     "data": {
      "image/png": "[encoded data removed]",
      "text/plain": [
       "<Figure size 432x288 with 1 Axes>"
      ]
     },
     "metadata": {
      "needs_background": "light"
     },
     "output_type": "display_data"
    }
   ],
   "source": [
    "import matplotlib.pyplot as plt\n",
    "\n",
    "x = dataSet[:,0]\n",
    "y = dataSet[:,1]\n",
    "\n",
    "print(x, y)\n",
    "fig, ax = plt.subplots()\n",
    "ax.scatter(x, y)\n",
    "for i, lbl in enumerate(labels):\n",
    "    ax.annotate(lbl, (x[i], y[i]))\n"
   ]
  },
  {
   "cell_type": "code",
   "execution_count": 70,
   "metadata": {},
   "outputs": [],
   "source": [
    "def plotData(lbl_p, p):\n",
    "    fig, ax = plt.subplots()\n",
    "    ax.scatter(x, y)\n",
    "    for i, lbl in enumerate(labels):\n",
    "        ax.annotate(lbl, (x[i], y[i]))\n",
    "    ax.scatter(p[0], p[1])\n",
    "    ax.annotate(lbl_p, p)"
   ]
  },
  {
   "cell_type": "code",
   "execution_count": 73,
   "metadata": {},
   "outputs": [
    {
     "name": "stdout",
     "output_type": "stream",
     "text": [
      "B\n"
     ]
    },
    {
     "data": {
      "image/png": "[encoded data removed]",
      "text/plain": [
       "<Figure size 432x288 with 1 Axes>"
      ]
     },
     "metadata": {
      "needs_background": "light"
     },
     "output_type": "display_data"
    }
   ],
   "source": [
    "p1 = [0.3, 0.3]\n",
    "\n",
    "cp1 = classify0(p1, groups, labels, 3)\n",
    "\n",
    "print(cp1)\n",
    "plotData(cp1, p1)\n"
   ]
  },
  {
   "cell_type": "code",
   "execution_count": 74,
   "metadata": {},
   "outputs": [
    {
     "data": {
      "image/png": "[encoded data removed]",
      "text/plain": [
       "<Figure size 432x288 with 1 Axes>"
      ]
     },
     "metadata": {
      "needs_background": "light"
     },
     "output_type": "display_data"
    }
   ],
   "source": [
    "p1 = [0.2, 0.2]\n",
    "plotData(classify0(p1, groups, labels, 3), p1)"
   ]
  },
  {
   "cell_type": "code",
   "execution_count": 76,
   "metadata": {},
   "outputs": [
    {
     "data": {
      "text/plain": [
       "array([0. , 0.1, 0.2, 0.3, 0.4, 0.5, 0.6, 0.7, 0.8, 0.9])"
      ]
     },
     "execution_count": 76,
     "metadata": {},
     "output_type": "execute_result"
    }
   ],
   "source": [
    "np.arange(0,1,0.1)"
   ]
  },
  {
   "cell_type": "code",
   "execution_count": 90,
   "metadata": {},
   "outputs": [
    {
     "data": {
      "image/png": "[encoded data removed]",
      "text/plain": [
       "<Figure size 432x288 with 1 Axes>"
      ]
     },
     "metadata": {
      "needs_background": "light"
     },
     "output_type": "display_data"
    }
   ],
   "source": [
    "x = dataSet[:,0]\n",
    "y = dataSet[:,1]\n",
    "\n",
    "color_label = ['red', 'blue']\n",
    "classes = ['A', 'B']\n",
    "fig, ax = plt.subplots()\n",
    "ax.scatter(x, y, color='black')\n",
    "for i, lbl in enumerate(labels):\n",
    "    ax.annotate(lbl, (x[i], y[i]))\n",
    "\n",
    "\n",
    "for x in np.arange(0,1,0.1):\n",
    "    for y in np.arange(0,1,0.1):\n",
    "        c = classify0([x,y], groups, labels, 3)\n",
    "        ax.scatter(x, y, color=color_label[classes.index(c)])\n",
    "        ax.annotate(c, [x,y])"
   ]
  },
  {
   "cell_type": "code",
   "execution_count": 85,
   "metadata": {},
   "outputs": [],
   "source": [
    "classes = ['A', 'B']\n",
    "color_label = ['red', 'blue']"
   ]
  },
  {
   "cell_type": "code",
   "execution_count": 87,
   "metadata": {},
   "outputs": [
    {
     "data": {
      "text/plain": [
       "'blue'"
      ]
     },
     "execution_count": 87,
     "metadata": {},
     "output_type": "execute_result"
    }
   ],
   "source": [
    "color_label[classes.index('B')]"
   ]
  },
  {
   "cell_type": "markdown",
   "metadata": {},
   "source": [
    "### Normalizing dataset"
   ]
  },
  {
   "cell_type": "code",
   "execution_count": 104,
   "metadata": {},
   "outputs": [
    {
     "name": "stdout",
     "output_type": "stream",
     "text": [
      "d.max(0) = [3 4]\n",
      "d.max(1) = [2 4]\n",
      "d.max()  = 4\n"
     ]
    }
   ],
   "source": [
    "d = np.array([[1,2],\n",
    "             [3,4]])\n",
    "print(\"d.max(0) =\", d.max(0))\n",
    "print(\"d.max(1) =\", d.max(1))\n",
    "print(\"d.max()  =\", d.max())"
   ]
  },
  {
   "cell_type": "code",
   "execution_count": null,
   "metadata": {},
   "outputs": [],
   "source": [
    "# normalize a dataset\n",
    "def autoNorm(dataset):\n",
    "    minVals = dataset.min(0)\n",
    "    maxVals = dataset.max(0)\n",
    "    ranges = maxVals - minVals\n",
    "    normDataSet = zeros(shape(dataset))\n",
    "    m = dataset.shape[0]\n",
    "    normDataSet = dataset - tile(minVals, (m,1))\n",
    "    normDataSet = normDataSet / tile(ranges, (m,1))\n",
    "    \n",
    "    # return ranges and minvals because you need \n",
    "    # it for test data to recover original value\n",
    "    return normDataSet, ranges, minVals\n"
   ]
  }
 ],
 "metadata": {
  "kernelspec": {
   "display_name": "Python 3",
   "language": "python",
   "name": "python3"
  },
  "language_info": {
   "codemirror_mode": {
    "name": "ipython",
    "version": 3
   },
   "file_extension": ".py",
   "mimetype": "text/x-python",
   "name": "python",
   "nbconvert_exporter": "python",
   "pygments_lexer": "ipython3",
   "version": "3.7.4"
  }
 },
 "nbformat": 4,
 "nbformat_minor": 2
}
