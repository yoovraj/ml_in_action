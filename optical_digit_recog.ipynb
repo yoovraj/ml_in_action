{
 "cells": [
  {
   "cell_type": "markdown",
   "metadata": {},
   "source": [
    "## Dataset\n",
    "https://archive.ics.uci.edu/ml/machine-learning-databases/optdigits/\n"
   ]
  },
  {
   "cell_type": "code",
   "execution_count": 1,
   "metadata": {},
   "outputs": [],
   "source": [
    "import numpy as np\n",
    "import operator"
   ]
  },
  {
   "cell_type": "markdown",
   "metadata": {},
   "source": [
    "### Using the knn defined in previous notebook knn.py\n",
    "We use the same function defined previously."
   ]
  },
  {
   "cell_type": "code",
   "execution_count": 2,
   "metadata": {},
   "outputs": [],
   "source": [
    "# inX : input datapoint  \n",
    "# dataSet : the provided dataset\n",
    "# labels : labels / classes\n",
    "# k : k nearest neighbours\n",
    "def classify0(inX, dataSet, labels, k):\n",
    "    # get the shape of the dataset\n",
    "    dataSetShape = dataSet.shape[0]\n",
    "    \n",
    "    # create diff dataset\n",
    "    diffMat = np.tile(inX, (dataSetShape, 1)).astype(float) - dataSet.astype(float)\n",
    "    \n",
    "    # square of differences\n",
    "    diffMat = diffMat ** 2\n",
    "    \n",
    "    # sum of squares of diff\n",
    "    sqDistances = diffMat.sum(axis=1)\n",
    "    \n",
    "    # sqrt of distance\n",
    "    sqDistances = sqDistances ** 0.5\n",
    "    \n",
    "    sortedDistIndices = sqDistances.argsort()\n",
    "    classCount={}\n",
    "    for i in range(k):\n",
    "        votedIlabel = labels[sortedDistIndices[i]]\n",
    "        classCount[votedIlabel] = classCount.get(votedIlabel, 0) + 1\n",
    "    \n",
    "    sortedClassCount = sorted(classCount.items(), key=operator.itemgetter(1), reverse=True)\n",
    "    return sortedClassCount[0][0]"
   ]
  },
  {
   "cell_type": "markdown",
   "metadata": {},
   "source": [
    "### Download the training and testing data "
   ]
  },
  {
   "cell_type": "code",
   "execution_count": 6,
   "metadata": {},
   "outputs": [
    {
     "name": "stdout",
     "output_type": "stream",
     "text": [
      "Warning: Failed to set locale category LC_NUMERIC to en_JP.\n",
      "Warning: Failed to set locale category LC_TIME to en_JP.\n",
      "Warning: Failed to set locale category LC_COLLATE to en_JP.\n",
      "Warning: Failed to set locale category LC_MONETARY to en_JP.\n",
      "Warning: Failed to set locale category LC_MESSAGES to en_JP.\n",
      "--2019-12-26 00:38:28--  https://archive.ics.uci.edu/ml/machine-learning-databases/optdigits/optdigits.tra\n",
      "Resolving archive.ics.uci.edu (archive.ics.uci.edu)... 128.195.10.252\n",
      "Connecting to archive.ics.uci.edu (archive.ics.uci.edu)|128.195.10.252|:443... connected.\n",
      "HTTP request sent, awaiting response... 200 OK\n",
      "Length: 563639 (550K) [application/x-httpd-php]\n",
      "Saving to: ‘optdigits.tra.1’\n",
      "\n",
      "optdigits.tra.1     100%[===================>] 550.43K   613KB/s    in 0.9s    \n",
      "\n",
      "2019-12-26 00:38:30 (613 KB/s) - ‘optdigits.tra.1’ saved [563639/563639]\n",
      "\n",
      "Warning: Failed to set locale category LC_NUMERIC to en_JP.\n",
      "Warning: Failed to set locale category LC_TIME to en_JP.\n",
      "Warning: Failed to set locale category LC_COLLATE to en_JP.\n",
      "Warning: Failed to set locale category LC_MONETARY to en_JP.\n",
      "Warning: Failed to set locale category LC_MESSAGES to en_JP.\n",
      "--2019-12-26 00:38:30--  https://archive.ics.uci.edu/ml/machine-learning-databases/optdigits/optdigits.tes\n",
      "Resolving archive.ics.uci.edu (archive.ics.uci.edu)... 128.195.10.252\n",
      "Connecting to archive.ics.uci.edu (archive.ics.uci.edu)|128.195.10.252|:443... connected.\n",
      "HTTP request sent, awaiting response... 200 OK\n",
      "Length: 264712 (259K) [application/x-httpd-php]\n",
      "Saving to: ‘optdigits.tes’\n",
      "\n",
      "optdigits.tes       100%[===================>] 258.51K   313KB/s    in 0.8s    \n",
      "\n",
      "2019-12-26 00:38:31 (313 KB/s) - ‘optdigits.tes’ saved [264712/264712]\n",
      "\n",
      "Warning: Failed to set locale category LC_NUMERIC to en_JP.\n",
      "Warning: Failed to set locale category LC_TIME to en_JP.\n",
      "Warning: Failed to set locale category LC_COLLATE to en_JP.\n",
      "Warning: Failed to set locale category LC_MONETARY to en_JP.\n",
      "Warning: Failed to set locale category LC_MESSAGES to en_JP.\n",
      "--2019-12-26 00:38:31--  https://archive.ics.uci.edu/ml/machine-learning-databases/optdigits/optdigits.names\n",
      "Resolving archive.ics.uci.edu (archive.ics.uci.edu)... 128.195.10.252\n",
      "Connecting to archive.ics.uci.edu (archive.ics.uci.edu)|128.195.10.252|:443... connected.\n",
      "HTTP request sent, awaiting response... 200 OK\n",
      "Length: 2439 (2.4K) [application/x-httpd-php]\n",
      "Saving to: ‘optdigits.names’\n",
      "\n",
      "optdigits.names     100%[===================>]   2.38K  --.-KB/s    in 0.001s  \n",
      "\n",
      "2019-12-26 00:38:32 (2.85 MB/s) - ‘optdigits.names’ saved [2439/2439]\n",
      "\n"
     ]
    }
   ],
   "source": [
    "!wget https://archive.ics.uci.edu/ml/machine-learning-databases/optdigits/optdigits.tra\n",
    "!wget https://archive.ics.uci.edu/ml/machine-learning-databases/optdigits/optdigits.tes\n",
    "!wget https://archive.ics.uci.edu/ml/machine-learning-databases/optdigits/optdigits.names"
   ]
  },
  {
   "cell_type": "markdown",
   "metadata": {},
   "source": [
    "### Check the contents of the file"
   ]
  },
  {
   "cell_type": "code",
   "execution_count": 16,
   "metadata": {},
   "outputs": [
    {
     "name": "stdout",
     "output_type": "stream",
     "text": [
      "0,1,6,15,12,1,0,0,0,7,16,6,6,10,0,0,0,8,16,2,0,11,2,0,0,5,16,3,0,5,7,0,0,7,13,3,0,8,7,0,0,4,12,0,1,13,5,0,0,0,14,9,15,9,0,0,0,0,6,14,7,1,0,0,0\n",
      "---\n",
      "0,0,5,13,9,1,0,0,0,0,13,15,10,15,5,0,0,3,15,2,0,11,8,0,0,4,12,0,0,8,8,0,0,5,8,0,0,9,8,0,0,4,11,0,1,12,7,0,0,2,14,5,10,12,0,0,0,0,6,13,10,0,0,0,0\n",
      "---\n",
      "\n",
      "1. Title of Database: Optical Recognition of Handwritten Digits\n",
      "\n",
      "2. Source:\n",
      "\tE. Alpaydin, C. Kaynak\n",
      "\tDepartment of Computer Engineering\n",
      "\tBogazici University, 80815 Istanbul Turkey\n",
      "\talpaydin@boun.edu.tr\n",
      "\tJuly 1998\n",
      "\n"
     ]
    }
   ],
   "source": [
    "#### linux commands\n",
    "!head -1 optdigits.tra\n",
    "!echo \"---\"\n",
    "!head -1 optdigits.tes\n",
    "!echo \"---\"\n",
    "!head optdigits.names"
   ]
  },
  {
   "cell_type": "markdown",
   "metadata": {},
   "source": [
    "### Load the training dataset (labelled data)"
   ]
  },
  {
   "cell_type": "code",
   "execution_count": 4,
   "metadata": {},
   "outputs": [
    {
     "name": "stdout",
     "output_type": "stream",
     "text": [
      "2001\n",
      "(2001, 64)\n"
     ]
    }
   ],
   "source": [
    "training_data_file = open('optdigits.tra')\n",
    "training_data_line = training_data_file.readline().strip()\n",
    "split_data = training_data_line.split(',')\n",
    "dataset = np.array([split_data[0:64]])\n",
    "labels = [split_data[64]]\n",
    "\n",
    "for i in range(2000):\n",
    "    training_data_line = training_data_file.readline().strip()\n",
    "    split_data = training_data_line.split(',')\n",
    "    dataset = np.vstack([dataset, split_data[0:64]])\n",
    "    labels.append(split_data[64])\n",
    "\n",
    "print(len(labels))\n",
    "print(dataset.shape)"
   ]
  },
  {
   "cell_type": "markdown",
   "metadata": {},
   "source": [
    "### Load the testing dataset "
   ]
  },
  {
   "cell_type": "code",
   "execution_count": 11,
   "metadata": {},
   "outputs": [],
   "source": [
    "test_data_file = open('optdigits.tes')\n",
    "test_data_line = test_data_file.readline().strip()\n",
    "split_data = test_data_line.split(',')\n",
    "test_dataset = np.array([split_data[0:64]])\n",
    "test_labels = [split_data[64]]\n",
    "\n",
    "\n",
    "for i in range(500):\n",
    "    test_data_line = test_data_file.readline().strip()\n",
    "    split_data = test_data_line.split(',')\n",
    "    test_dataset = np.vstack([test_dataset, split_data[0:64]])\n",
    "    test_labels.append(split_data[64])\n"
   ]
  },
  {
   "cell_type": "code",
   "execution_count": 19,
   "metadata": {},
   "outputs": [
    {
     "data": {
      "text/plain": [
       "array(['0', '0', '0', '1', '11', '0', '0', '0', '0', '0', '0', '7', '8',\n",
       "       '0', '0', '0', '0', '0', '1', '13', '6', '2', '2', '0', '0', '0',\n",
       "       '7', '15', '0', '9', '8', '0', '0', '5', '16', '10', '0', '16',\n",
       "       '6', '0', '0', '4', '15', '16', '13', '16', '1', '0', '0', '0',\n",
       "       '0', '3', '15', '10', '0', '0', '0', '0', '0', '2', '16', '4', '0',\n",
       "       '0'], dtype='<U2')"
      ]
     },
     "execution_count": 19,
     "metadata": {},
     "output_type": "execute_result"
    }
   ],
   "source": [
    "# check one datapoint inside test dataset\n",
    "test_dataset[4]"
   ]
  },
  {
   "cell_type": "code",
   "execution_count": 20,
   "metadata": {},
   "outputs": [
    {
     "name": "stdout",
     "output_type": "stream",
     "text": [
      "501\n",
      "['0', '1', '2', '3', '4', '5', '6', '7', '8', '9']\n"
     ]
    }
   ],
   "source": [
    "# confirm the test labels are loaded properly\n",
    "print(len(test_labels))\n",
    "print(test_labels[0:10])"
   ]
  },
  {
   "cell_type": "markdown",
   "metadata": {},
   "source": [
    "### Classify one random datapoint from test data"
   ]
  },
  {
   "cell_type": "code",
   "execution_count": 21,
   "metadata": {},
   "outputs": [
    {
     "data": {
      "text/plain": [
       "'4'"
      ]
     },
     "execution_count": 21,
     "metadata": {},
     "output_type": "execute_result"
    }
   ],
   "source": [
    "classify0(test_dataset[4], dataset, labels, 3)"
   ]
  },
  {
   "cell_type": "code",
   "execution_count": 10,
   "metadata": {},
   "outputs": [
    {
     "data": {
      "text/plain": [
       "2001"
      ]
     },
     "execution_count": 10,
     "metadata": {},
     "output_type": "execute_result"
    }
   ],
   "source": [
    "len(labels)"
   ]
  },
  {
   "cell_type": "markdown",
   "metadata": {},
   "source": [
    "### Classify the test data and confirm the accuracy of the algorithm\n",
    "### Also calculate the time for execution"
   ]
  },
  {
   "cell_type": "code",
   "execution_count": 15,
   "metadata": {},
   "outputs": [
    {
     "name": "stdout",
     "output_type": "stream",
     "text": [
      "i=2 incorrect detected label = 1 expected = 2\n",
      "i=5 incorrect detected label = 9 expected = 5\n",
      "i=77 incorrect detected label = 1 expected = 2\n",
      "i=87 incorrect detected label = 1 expected = 4\n",
      "i=100 accuracy = 97.0\n",
      "i=129 incorrect detected label = 1 expected = 8\n",
      "i=154 incorrect detected label = 1 expected = 4\n",
      "i=170 incorrect detected label = 1 expected = 8\n",
      "i=171 incorrect detected label = 1 expected = 4\n",
      "i=200 accuracy = 96.5\n",
      "i=228 incorrect detected label = 1 expected = 4\n",
      "i=239 incorrect detected label = 1 expected = 4\n",
      "i=242 incorrect detected label = 1 expected = 8\n",
      "i=250 incorrect detected label = 1 expected = 4\n",
      "i=300 accuracy = 96.33333333333333\n",
      "i=400 accuracy = 97.25\n",
      "i=414 incorrect detected label = 9 expected = 8\n",
      "i=421 incorrect detected label = 9 expected = 5\n",
      "i=429 incorrect detected label = 9 expected = 7\n",
      "i=467 incorrect detected label = 9 expected = 7\n",
      "i=480 incorrect detected label = 9 expected = 7\n",
      "i=498 incorrect detected label = 9 expected = 7\n",
      "i=500 accuracy = 96.6\n",
      "correct label =  483\n",
      "Accuracy =  96.6\n",
      "--- 34.663615226745605 seconds ---\n"
     ]
    }
   ],
   "source": [
    "import time\n",
    "start_time = time.time()\n",
    "\n",
    "correct_label_count = 0\n",
    "for i in range(len(test_labels)):\n",
    "    predicted_label = classify0(test_dataset[i], dataset, labels, 3)\n",
    "    if predicted_label == test_labels[i] :\n",
    "        correct_label_count = correct_label_count + 1\n",
    "    else :\n",
    "        print(\"i={} incorrect detected label = {} expected = {}\".format(i, predicted_label,test_labels[i]))\n",
    "    if i%100 == 0 and i != 0:\n",
    "        print(\"i={} accuracy = {}\".format(i, 100*correct_label_count/i))\n",
    "print(\"correct label = \", correct_label_count)\n",
    "print(\"Accuracy = \", 100*correct_label_count/500)\n",
    "print(\"--- %s seconds ---\" % (time.time() - start_time))\n"
   ]
  },
  {
   "cell_type": "code",
   "execution_count": null,
   "metadata": {},
   "outputs": [],
   "source": []
  },
  {
   "cell_type": "code",
   "execution_count": null,
   "metadata": {},
   "outputs": [],
   "source": []
  },
  {
   "cell_type": "markdown",
   "metadata": {},
   "source": [
    "### ROUGH WORK"
   ]
  },
  {
   "cell_type": "code",
   "execution_count": 48,
   "metadata": {},
   "outputs": [
    {
     "name": "stdout",
     "output_type": "stream",
     "text": [
      "type(dataset) dataset.shape <class 'numpy.ndarray'> (6, 64)\n",
      "type(test_dataset[0]) test_dataset[0].shape <class 'numpy.ndarray'> (64,)\n"
     ]
    }
   ],
   "source": [
    "print(\"type(dataset) dataset.shape\", type(dataset), dataset.shape)\n",
    "print(\"type(test_dataset[0]) test_dataset[0].shape\", type(test_dataset[0]), test_dataset[0].shape)\n"
   ]
  },
  {
   "cell_type": "code",
   "execution_count": 51,
   "metadata": {},
   "outputs": [],
   "source": [
    "inX = list(test_dataset[0])\n",
    "k = 3"
   ]
  },
  {
   "cell_type": "code",
   "execution_count": 53,
   "metadata": {},
   "outputs": [
    {
     "name": "stdout",
     "output_type": "stream",
     "text": [
      "6\n"
     ]
    }
   ],
   "source": [
    "dataSetShape = dataset.shape[0]\n",
    "print(dataSetShape)"
   ]
  },
  {
   "cell_type": "code",
   "execution_count": 63,
   "metadata": {},
   "outputs": [
    {
     "data": {
      "text/plain": [
       "numpy.ndarray"
      ]
     },
     "execution_count": 63,
     "metadata": {},
     "output_type": "execute_result"
    }
   ],
   "source": [
    "type(np.tile(inX, (dataSetShape, 1)).astype(int))"
   ]
  },
  {
   "cell_type": "code",
   "execution_count": 65,
   "metadata": {},
   "outputs": [
    {
     "data": {
      "text/plain": [
       "array([[  0,  -1,  -1,  -2,  -3,   0,   0,   0,   0,  -7,  -3,   9,   4,\n",
       "          5,   5,   0,   0,  -5,  -1,   0,   0,   0,   6,   0,   0,  -1,\n",
       "         -4,  -3,   0,   3,   1,   0,   0,  -2,  -5,  -3,   0,   1,   1,\n",
       "          0,   0,   0,  -1,   0,   0,  -1,   2,   0,   0,   2,   0,  -4,\n",
       "         -5,   3,   0,   0,   0,   0,   0,  -1,   3,  -1,   0,   0],\n",
       "       [  0,   0,  -5,  -3,   3,   1,   0,   0,   0,  -7,  -3,   7,  -6,\n",
       "         10,   5,   0,   0,  -8,  -1,   2,  -6,  -3,   5,   0,   0,  -8,\n",
       "          0,   0,   0,  -3,  -3,   0,   0,  -7,  -4,   0,   0,   1,  -4,\n",
       "          0,   0,  -3,  -4,  -1,   1,  -1,  -4,   0,   0,   2,  -2,  -3,\n",
       "          0,  -3,  -3,   0,   0,   0,  -4,  -3,  -5,  -3,   0,   0],\n",
       "       [  0,   0,  -3,  -2,  -7, -12,   0,   0,   0,  -1,   2,   6,  -1,\n",
       "         -1,   4,   0,   0,   3,  15,   2,  -7,  -3,   8,   0,   0,   4,\n",
       "          9,  -4, -14,  -4,   6,   0,   0,   4,  -8, -16, -16,  -7,  -2,\n",
       "          0,   0,   2,  -1, -16,  -9,  12,   7,   0,   0,   2,  12, -11,\n",
       "          6,  12,   0,   0,   0,   0,  -3,  -1,  10,   0,   0,   0],\n",
       "       [  0,   0,   5,  10,  -2, -15,   0,   0,   0,   0,   8,  -1,  -1,\n",
       "          2,  -2,   0,   0,   0,   0,  -6,  -1,  -4,   2,   0,   0,  -7,\n",
       "         -4, -16, -16,  -8,  -2,   0,   0,   4,   4,  -4, -13,  -1,   6,\n",
       "          0,   0,   4,  11,   0, -14,   8,   7,   0,   0,   2,  14,   2,\n",
       "         -6,  12,   0,   0,   0,   0,   6,  12,  -5,  -2,   0,   0],\n",
       "       [  0,   0,   0,  -1,   5,   1,   0,   0,   0,   0,   0,   7,  10,\n",
       "         15,   5,   0,   0,   0,   1,  -2,   0,  11,   8,   0,   0,  -2,\n",
       "         -4, -14,  -9,   6,   8,   0,   0,   1,  -8,  -3,  -4,  -2,   6,\n",
       "          0,   0,   4,  -3,  -3,   1,   8,  -4,   0,   0,   2,   4,  -3,\n",
       "          6,   1, -12,   0,   0,   0,   2,   1,  -4,  -7,   0,   0],\n",
       "       [  0,   0,  -6,  -3,  -1,   0,   0,   0,   0,  -4,  -3,   5,  -5,\n",
       "          7,   5,   0,   0,  -1,  -1,  -1, -11,  -2,   8,   0,   0,   3,\n",
       "         -2,  -6,  -9,  -6,   8,   0,   0,   5,   8,   0, -12,  -1,   8,\n",
       "          0,   0,   4,  11,  -6, -15,   6,   7,   0,   0,   2,   9, -10,\n",
       "         -5,   4,  -8,  -3,   0,   0,  -4,  -3,  -6, -16, -16,  -6]])"
      ]
     },
     "execution_count": 65,
     "metadata": {},
     "output_type": "execute_result"
    }
   ],
   "source": [
    "np.tile(inX, (dataSetShape, 1)).astype(int) - dataset.astype(int)"
   ]
  },
  {
   "cell_type": "code",
   "execution_count": 60,
   "metadata": {},
   "outputs": [
    {
     "data": {
      "text/plain": [
       "numpy.ndarray"
      ]
     },
     "execution_count": 60,
     "metadata": {},
     "output_type": "execute_result"
    }
   ],
   "source": [
    "type(dataset)"
   ]
  },
  {
   "cell_type": "code",
   "execution_count": null,
   "metadata": {},
   "outputs": [],
   "source": []
  }
 ],
 "metadata": {
  "kernelspec": {
   "display_name": "Python 3",
   "language": "python",
   "name": "python3"
  },
  "language_info": {
   "codemirror_mode": {
    "name": "ipython",
    "version": 3
   },
   "file_extension": ".py",
   "mimetype": "text/x-python",
   "name": "python",
   "nbconvert_exporter": "python",
   "pygments_lexer": "ipython3",
   "version": "3.7.4"
  }
 },
 "nbformat": 4,
 "nbformat_minor": 2
}
